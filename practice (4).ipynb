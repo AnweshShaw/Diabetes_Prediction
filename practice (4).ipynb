{
  "nbformat": 4,
  "nbformat_minor": 0,
  "metadata": {
    "colab": {
      "provenance": []
    },
    "kernelspec": {
      "name": "python3",
      "display_name": "Python 3"
    },
    "language_info": {
      "name": "python"
    }
  },
  "cells": [
    {
      "cell_type": "code",
      "execution_count": 174,
      "metadata": {
        "id": "SbaoJYiROMuC"
      },
      "outputs": [],
      "source": [
        "import pandas as pd\n",
        "import numpy as np\n",
        "from sklearn.model_selection import train_test_split\n",
        "from sklearn.preprocessing import StandardScaler\n",
        "from sklearn.linear_model import LogisticRegression\n",
        "from sklearn.neighbors import KNeighborsClassifier\n",
        "\n",
        "# SVC - Support Vector Classification\n",
        "from sklearn.svm import SVC\n",
        "from sklearn.tree import DecisionTreeClassifier\n",
        "from sklearn.ensemble import RandomForestClassifier\n",
        "from sklearn.ensemble import GradientBoostingClassifier\n",
        "from sklearn.pipeline import Pipeline\n"
      ]
    },
    {
      "cell_type": "code",
      "source": [
        "data = pd.read_csv('/content/diabetes.csv')"
      ],
      "metadata": {
        "id": "rb-82VIpO3pV"
      },
      "execution_count": 175,
      "outputs": []
    },
    {
      "cell_type": "code",
      "source": [
        "X = data.drop('Outcome',axis=1)\n",
        "y = data['Outcome']"
      ],
      "metadata": {
        "id": "EFMcJYnPPGSH"
      },
      "execution_count": 176,
      "outputs": []
    },
    {
      "cell_type": "code",
      "source": [
        "X_train, X_test, y_train, y_test = train_test_split(X,y,test_size=0.10,random_state=41)"
      ],
      "metadata": {
        "id": "zw-A2w2ZPbee"
      },
      "execution_count": 198,
      "outputs": []
    },
    {
      "cell_type": "code",
      "source": [
        "# Feature scaling for Logistic Regression (Standard Scaler Output is input for logistic regression)\n",
        "pipeline_lr = Pipeline([('scalar1',StandardScaler()),('lr_classifier',LogisticRegression())])\n",
        "pipeline_knn = Pipeline([('scalar2',StandardScaler()),('lr_classifier',KNeighborsClassifier())])\n",
        "pipeline_svc = Pipeline([('scalar3',StandardScaler()),('lr_classifier',SVC())])"
      ],
      "metadata": {
        "id": "WGLSgZ-MPjhl"
      },
      "execution_count": 199,
      "outputs": []
    },
    {
      "cell_type": "code",
      "source": [
        "# Feature Scaling is not required for non-machine learning algorithms like Decision Tree and Random forest\n",
        "pipeline_dt = Pipeline([('dt_classifier', DecisionTreeClassifier())])\n",
        "pipeline_rf = Pipeline([('dt_classifier', RandomForestClassifier())])\n",
        "pipeline_gbc = Pipeline([('dt_classifier', GradientBoostingClassifier())])"
      ],
      "metadata": {
        "id": "CoopbQTyQEct"
      },
      "execution_count": 200,
      "outputs": []
    },
    {
      "cell_type": "code",
      "source": [
        "pipelines = [pipeline_lr,pipeline_knn, pipeline_svc, pipeline_dt, pipeline_rf, pipeline_gbc]"
      ],
      "metadata": {
        "id": "RU1facbhQK6j"
      },
      "execution_count": 201,
      "outputs": []
    },
    {
      "cell_type": "code",
      "source": [
        "for pipe in pipelines:\n",
        "    pipe.fit(X_train,y_train)"
      ],
      "metadata": {
        "id": "Bl1uifU7QaW9"
      },
      "execution_count": 202,
      "outputs": []
    },
    {
      "cell_type": "code",
      "source": [
        "pipe_dict = {0:'LR',\n",
        "             1:'KNN',\n",
        "             2:'SVC',\n",
        "             3:'DT',\n",
        "             4: 'RF',\n",
        "             5: 'GBC'}"
      ],
      "metadata": {
        "id": "rhOvfC6_Q369"
      },
      "execution_count": 203,
      "outputs": []
    },
    {
      "cell_type": "code",
      "source": [
        "for i,model in enumerate(pipelines):\n",
        "    print(\"{} Test Accuracy:{}\".format(pipe_dict[i],model.score(X_test,y_test)*100))"
      ],
      "metadata": {
        "colab": {
          "base_uri": "https://localhost:8080/"
        },
        "id": "Vp0V17EdQ8XL",
        "outputId": "8878891f-90be-4a4b-bcb7-ce435f49c332"
      },
      "execution_count": 204,
      "outputs": [
        {
          "output_type": "stream",
          "name": "stdout",
          "text": [
            "LR Test Accuracy:83.11688311688312\n",
            "KNN Test Accuracy:80.51948051948052\n",
            "SVC Test Accuracy:83.11688311688312\n",
            "DT Test Accuracy:74.02597402597402\n",
            "RF Test Accuracy:87.01298701298701\n",
            "GBC Test Accuracy:84.4155844155844\n"
          ]
        }
      ]
    },
    {
      "cell_type": "code",
      "source": [
        " # Predicting whether the patient is diabetic or non-diabetic using Random Forest Classifier model"
      ],
      "metadata": {
        "id": "_S1ee0Ivl9dl"
      },
      "execution_count": 115,
      "outputs": []
    },
    {
      "cell_type": "code",
      "source": [
        "from sklearn.ensemble import RandomForestClassifier"
      ],
      "metadata": {
        "id": "J6_Rby4pfggS"
      },
      "execution_count": 116,
      "outputs": []
    },
    {
      "cell_type": "code",
      "source": [
        "for pipe in pipelines:\n",
        "    pipe.fit(X_train,y_train)"
      ],
      "metadata": {
        "id": "oZ9jRimWflhl"
      },
      "execution_count": 117,
      "outputs": []
    },
    {
      "cell_type": "code",
      "source": [
        "X = data.drop('Outcome',axis=1)\n",
        "y = data['Outcome']"
      ],
      "metadata": {
        "id": "OGaYf-Ukfuoi"
      },
      "execution_count": 118,
      "outputs": []
    },
    {
      "cell_type": "code",
      "source": [
        "rf = RandomForestClassifier()"
      ],
      "metadata": {
        "id": "fYxQtWDbf3fY"
      },
      "execution_count": 119,
      "outputs": []
    },
    {
      "cell_type": "code",
      "source": [
        "rf.fit(X,y)"
      ],
      "metadata": {
        "colab": {
          "base_uri": "https://localhost:8080/"
        },
        "id": "mb3jHp57f-Si",
        "outputId": "13e000cb-01cb-4140-cdde-21b8343937c8"
      },
      "execution_count": 120,
      "outputs": [
        {
          "output_type": "execute_result",
          "data": {
            "text/plain": [
              "RandomForestClassifier()"
            ]
          },
          "metadata": {},
          "execution_count": 120
        }
      ]
    },
    {
      "cell_type": "code",
      "source": [
        "new_data = pd.DataFrame({\n",
        "'Pregnancies':6,\n",
        "'Glucose':148.0,\n",
        "'BloodPressure':72.0,\n",
        "'SkinThickness':35.0,\n",
        "'Insulin':79.799479,\n",
        "'BMI':33.6,\n",
        "'DiabetesPedigreeFuncton':0.627,\n",
        "'Age':50,},index=[0])"
      ],
      "metadata": {
        "id": "1e8rd2W0gCsN"
      },
      "execution_count": 121,
      "outputs": []
    },
    {
      "cell_type": "code",
      "source": [
        "p = rf.predict(new_data)"
      ],
      "metadata": {
        "colab": {
          "base_uri": "https://localhost:8080/"
        },
        "id": "zpFzqFSZgFZS",
        "outputId": "948091da-2d91-4b19-b52e-0a25037b9b76"
      },
      "execution_count": 122,
      "outputs": [
        {
          "output_type": "stream",
          "name": "stderr",
          "text": [
            "/usr/local/lib/python3.8/dist-packages/sklearn/base.py:493: FutureWarning: The feature names should match those that were passed during fit. Starting version 1.2, an error will be raised.\n",
            "Feature names unseen at fit time:\n",
            "- DiabetesPedigreeFuncton\n",
            "Feature names seen at fit time, yet now missing:\n",
            "- DiabetesPedigreeFunction\n",
            "\n",
            "  warnings.warn(message, FutureWarning)\n"
          ]
        }
      ]
    },
    {
      "cell_type": "code",
      "source": [
        "if p[0] == 0:\n",
        "    print('non-diabetic')\n",
        "else:\n",
        "    print('diabetic')"
      ],
      "metadata": {
        "colab": {
          "base_uri": "https://localhost:8080/"
        },
        "id": "jUGIBLyMgLZI",
        "outputId": "82d0dcbb-5c48-4c7b-98ea-cc4c99a9c0d5"
      },
      "execution_count": 123,
      "outputs": [
        {
          "output_type": "stream",
          "name": "stdout",
          "text": [
            "diabetic\n"
          ]
        }
      ]
    }
  ]
}